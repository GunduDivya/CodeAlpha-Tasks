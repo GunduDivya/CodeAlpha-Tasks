{
 "cells": [
  {
   "cell_type": "code",
   "execution_count": 2,
   "id": "8e705b42",
   "metadata": {},
   "outputs": [
    {
     "name": "stdout",
     "output_type": "stream",
     "text": [
      "         Date   Product  Quantity  Price_per_Unit\n",
      "0  2023-01-01  Widget A        10             5.0\n",
      "1  2023-01-02  Widget B         5            15.0\n",
      "2  2023-01-03  Widget A         3             5.0\n",
      "3  2023-01-04  Widget C         7            10.0\n",
      "4  2023-01-05  Widget B         2            15.0\n"
     ]
    }
   ],
   "source": [
    "import pandas as pd\n",
    "df=pd.read_csv('D:\\div\\data_processing.csv')\n",
    "print(df)"
   ]
  },
  {
   "cell_type": "code",
   "execution_count": 7,
   "id": "2365f3bf",
   "metadata": {},
   "outputs": [
    {
     "name": "stdout",
     "output_type": "stream",
     "text": [
      "sales summary\n",
      "    Product  Total_Sales\n",
      "0  Widget A         65.0\n",
      "1  Widget B        105.0\n",
      "2  Widget C         70.0\n",
      "\n",
      "Best-selling product: Widget B with total of $105.00\n"
     ]
    }
   ],
   "source": [
    "df['Total_Sales']=df['Quantity']*df['Price_per_Unit']\n",
    "summary=df.groupby('Product')['Total_Sales'].sum().reset_index()\n",
    "best_selling=summary.loc[summary['Total_Sales'].idxmax()]\n",
    "summary.to_csv('D:\\div\\sales_summary.csv',index=False)\n",
    "print('sales summary')\n",
    "print(summary)\n",
    "print(f'\\nBest-selling product: {best_selling[\"Product\"]} with total of ${best_selling[\"Total_Sales\"]:.2f}')"
   ]
  },
  {
   "cell_type": "code",
   "execution_count": null,
   "id": "5817d78b",
   "metadata": {},
   "outputs": [],
   "source": []
  }
 ],
 "metadata": {
  "kernelspec": {
   "display_name": "Python 3 (ipykernel)",
   "language": "python",
   "name": "python3"
  },
  "language_info": {
   "codemirror_mode": {
    "name": "ipython",
    "version": 3
   },
   "file_extension": ".py",
   "mimetype": "text/x-python",
   "name": "python",
   "nbconvert_exporter": "python",
   "pygments_lexer": "ipython3",
   "version": "3.11.5"
  }
 },
 "nbformat": 4,
 "nbformat_minor": 5
}
